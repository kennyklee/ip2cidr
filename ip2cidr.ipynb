{
 "cells": [
  {
   "cell_type": "markdown",
   "metadata": {},
   "source": [
    "# IP Range to CIDR\n",
    "\n",
    "Convert IP range to CIDR"
   ]
  },
  {
   "cell_type": "code",
   "execution_count": 91,
   "metadata": {},
   "outputs": [],
   "source": [
    "# import statements\n",
    "import pandas as pd\n",
    "from netaddr import *\n",
    "import itertools"
   ]
  },
  {
   "cell_type": "code",
   "execution_count": 92,
   "metadata": {},
   "outputs": [
    {
     "data": {
      "text/html": [
       "<div>\n",
       "<style>\n",
       "    .dataframe thead tr:only-child th {\n",
       "        text-align: right;\n",
       "    }\n",
       "\n",
       "    .dataframe thead th {\n",
       "        text-align: left;\n",
       "    }\n",
       "\n",
       "    .dataframe tbody tr th {\n",
       "        vertical-align: top;\n",
       "    }\n",
       "</style>\n",
       "<table border=\"1\" class=\"dataframe\">\n",
       "  <thead>\n",
       "    <tr style=\"text-align: right;\">\n",
       "      <th></th>\n",
       "      <th>start</th>\n",
       "      <th>end</th>\n",
       "    </tr>\n",
       "  </thead>\n",
       "  <tbody>\n",
       "    <tr>\n",
       "      <th>0</th>\n",
       "      <td>43.229.156.0</td>\n",
       "      <td>43.229.159.255</td>\n",
       "    </tr>\n",
       "    <tr>\n",
       "      <th>1</th>\n",
       "      <td>104.254.248.0</td>\n",
       "      <td>104.254.255.255</td>\n",
       "    </tr>\n",
       "    <tr>\n",
       "      <th>2</th>\n",
       "      <td>185.89.148.0</td>\n",
       "      <td>185.89.151.255</td>\n",
       "    </tr>\n",
       "    <tr>\n",
       "      <th>3</th>\n",
       "      <td>216.37.41.15</td>\n",
       "      <td>216.37.41.15</td>\n",
       "    </tr>\n",
       "    <tr>\n",
       "      <th>4</th>\n",
       "      <td>190.24.139.129</td>\n",
       "      <td>190.24.139.135</td>\n",
       "    </tr>\n",
       "  </tbody>\n",
       "</table>\n",
       "</div>"
      ],
      "text/plain": [
       "            start              end\n",
       "0    43.229.156.0   43.229.159.255\n",
       "1   104.254.248.0  104.254.255.255\n",
       "2    185.89.148.0   185.89.151.255\n",
       "3    216.37.41.15     216.37.41.15\n",
       "4  190.24.139.129   190.24.139.135"
      ]
     },
     "execution_count": 92,
     "metadata": {},
     "output_type": "execute_result"
    }
   ],
   "source": [
    "# import csv\n",
    "# set headers, no index\n",
    "# delimiter '-'\n",
    "\n",
    "df = pd.read_csv('ip.csv', names=['start','end'], sep='-', index_col=None)\n",
    "df.head()"
   ]
  },
  {
   "cell_type": "code",
   "execution_count": 93,
   "metadata": {},
   "outputs": [
    {
     "name": "stdout",
     "output_type": "stream",
     "text": [
      "[IPNetwork('216.37.41.1/32'), IPNetwork('216.37.41.2/31'), IPNetwork('216.37.41.4/30'), IPNetwork('216.37.41.8/29')]\n"
     ]
    }
   ],
   "source": [
    "# Test IP range using 'netaddr' library\n",
    "\n",
    "ip_range = IPRange(\"216.37.41.1\", \"216.37.41.15\").cidrs()\n",
    "print(ip_range)"
   ]
  },
  {
   "cell_type": "code",
   "execution_count": 94,
   "metadata": {},
   "outputs": [
    {
     "name": "stdout",
     "output_type": "stream",
     "text": [
      "43.229.156.0/22\n"
     ]
    }
   ],
   "source": [
    "# Test import csv data\n",
    "cidr_range = IPRange(df['start'][0], df['end'][0]).cidrs()\n",
    "print(cidr_range[0])"
   ]
  },
  {
   "cell_type": "code",
   "execution_count": 95,
   "metadata": {},
   "outputs": [
    {
     "data": {
      "text/plain": [
       "66"
      ]
     },
     "execution_count": 95,
     "metadata": {},
     "output_type": "execute_result"
    }
   ],
   "source": [
    "# Loop through csv df and append CIDR to list.\n",
    "# There will be lists (CIDRs) inside a list.\n",
    "\n",
    "ip_cidr = []\n",
    "cidr_list = []\n",
    "\n",
    "for i in range(len(df)):\n",
    "    ip_cidr = IPRange(df.iloc[i]['start'], df.iloc[i]['end']).cidrs()\n",
    "    cidr_list.append(ip_cidr)\n",
    "\n",
    "len(cidr_list)\n",
    "# print(cidr_list)"
   ]
  },
  {
   "cell_type": "code",
   "execution_count": 96,
   "metadata": {},
   "outputs": [
    {
     "name": "stdout",
     "output_type": "stream",
     "text": [
      "146\n"
     ]
    }
   ],
   "source": [
    "# Flatten the lists inside list.\n",
    "cidr_merged = list(itertools.chain(*cidr_list))\n",
    "\n",
    "print(len(cidr_merged))"
   ]
  },
  {
   "cell_type": "code",
   "execution_count": 97,
   "metadata": {
    "scrolled": false
   },
   "outputs": [
    {
     "name": "stdout",
     "output_type": "stream",
     "text": [
      "1 43.229.156.0/22\n",
      "2 104.254.248.0/21\n",
      "3 185.89.148.0/22\n",
      "4 216.37.41.15/32\n",
      "5 190.24.139.129/32\n",
      "6 190.24.139.130/31\n",
      "7 190.24.139.132/30\n",
      "8 103.48.172.1/32\n",
      "9 103.48.172.2/31\n",
      "10 103.48.172.4/30\n",
      "11 103.48.172.8/29\n",
      "12 103.48.172.16/28\n",
      "13 103.48.172.32/27\n",
      "14 103.48.172.64/26\n",
      "15 103.48.172.128/26\n",
      "16 103.48.172.192/27\n",
      "17 103.48.172.224/28\n",
      "18 103.48.172.240/29\n",
      "19 103.48.172.248/30\n",
      "20 103.48.172.252/31\n",
      "21 103.48.172.254/32\n",
      "22 198.102.213.1/32\n",
      "23 198.102.213.2/31\n",
      "24 198.102.213.4/30\n",
      "25 198.102.213.8/29\n",
      "26 198.102.213.16/28\n",
      "27 198.102.213.32/27\n",
      "28 198.102.213.64/26\n",
      "29 198.102.213.128/26\n",
      "30 198.102.213.192/27\n",
      "31 198.102.213.224/28\n",
      "32 198.102.213.240/29\n",
      "33 198.102.213.248/30\n",
      "34 198.102.213.252/31\n",
      "35 198.102.213.254/32\n",
      "36 67.131.130.1/32\n",
      "37 67.131.130.2/31\n",
      "38 67.131.130.4/30\n",
      "39 67.131.130.8/29\n",
      "40 67.131.130.16/28\n",
      "41 67.131.130.32/27\n",
      "42 67.131.130.64/26\n",
      "43 67.131.130.128/26\n",
      "44 67.131.130.192/27\n",
      "45 67.131.130.224/28\n",
      "46 67.131.130.240/29\n",
      "47 67.131.130.248/30\n",
      "48 67.131.130.252/31\n",
      "49 67.131.130.254/32\n",
      "50 193.46.76.1/32\n",
      "51 193.46.76.2/31\n",
      "52 193.46.76.4/30\n",
      "53 193.46.76.8/29\n",
      "54 193.46.76.16/28\n",
      "55 193.46.76.32/27\n",
      "56 193.46.76.64/26\n",
      "57 193.46.76.128/26\n",
      "58 193.46.76.192/27\n",
      "59 193.46.76.224/28\n",
      "60 193.46.76.240/29\n",
      "61 193.46.76.248/30\n",
      "62 193.46.76.252/31\n",
      "63 193.46.76.254/32\n",
      "64 201.48.136.137/32\n",
      "65 201.48.136.138/31\n",
      "66 201.48.136.140/31\n",
      "67 201.48.136.142/32\n",
      "68 181.15.241.234/32\n",
      "69 67.131.130.18/32\n",
      "70 193.46.76.18/32\n",
      "71 199.180.145.190/31\n",
      "72 199.180.145.192/31\n",
      "73 199.188.233.194/31\n",
      "74 199.188.233.196/31\n",
      "75 199.188.233.225/32\n",
      "76 199.188.233.226/31\n",
      "77 199.188.233.228/30\n",
      "78 199.188.233.232/29\n",
      "79 199.188.233.240/28\n",
      "80 199.188.234.0/25\n",
      "81 199.188.234.128/26\n",
      "82 199.188.234.192/27\n",
      "83 199.188.234.224/28\n",
      "84 199.188.234.240/29\n",
      "85 199.188.234.248/30\n",
      "86 199.188.234.252/31\n",
      "87 199.188.234.254/32\n",
      "88 200.5.119.16/29\n",
      "89 81.144.222.226/31\n",
      "90 81.144.222.228/30\n",
      "91 81.144.222.232/29\n",
      "92 81.144.222.240/29\n",
      "93 81.144.222.248/30\n",
      "94 81.144.222.252/31\n",
      "95 81.144.222.254/32\n",
      "96 83.71.64.6/32\n",
      "97 62.28.248.234/32\n",
      "98 201.48.110.241/32\n",
      "99 189.125.122.192/26\n",
      "100 65.196.74.88/29\n",
      "101 81.211.66.124/30\n",
      "102 186.113.25.200/29\n",
      "103 92.45.107.104/29\n",
      "104 195.103.14.208/28\n",
      "105 82.112.213.18/32\n",
      "106 194.78.248.73/32\n",
      "107 161.43.71.58/32\n",
      "108 110.145.133.0/30\n",
      "109 180.48.49.28/32\n",
      "110 61.118.37.134/32\n",
      "111 122.200.121.178/32\n",
      "112 217.115.36.192/29\n",
      "113 222.106.180.132/32\n",
      "114 211.53.179.130/32\n",
      "115 125.227.60.158/32\n",
      "116 195.216.225.0/24\n",
      "117 213.137.182.0/28\n",
      "118 46.140.172.226/32\n",
      "119 81.144.222.224/27\n",
      "120 37.110.219.88/29\n",
      "121 81.255.68.240/29\n",
      "122 89.160.5.210/32\n",
      "123 72.142.92.106/32\n",
      "124 77.252.143.26/32\n",
      "125 145.131.244.130/32\n",
      "126 151.253.135.36/32\n",
      "127 82.141.225.232/29\n",
      "128 89.201.166.226/32\n",
      "129 83.111.98.84/30\n",
      "130 213.33.172.100/30\n",
      "131 87.190.45.130/32\n",
      "132 213.0.109.234/32\n",
      "133 144.121.142.8/29\n",
      "134 43.229.159.0/24\n",
      "135 148.244.116.27/32\n",
      "136 176.10.45.234/32\n",
      "137 200.41.239.162/32\n",
      "138 82.141.236.249/32\n",
      "139 82.141.236.250/31\n",
      "140 82.141.236.252/31\n",
      "141 82.141.236.254/32\n",
      "142 144.121.26.242/32\n",
      "143 43.229.159.8/32\n",
      "144 104.254.253.20/32\n",
      "145 62.74.234.139/32\n",
      "146 178.216.62.234/32\n"
     ]
    }
   ],
   "source": [
    "# Print just the CIDR value, rather than the function.\n",
    "\n",
    "output = []\n",
    "\n",
    "for i in range(len(cidr_merged)):\n",
    "    print(\"{} {}\".format(i+1, cidr_merged[i]))"
   ]
  },
  {
   "cell_type": "markdown",
   "metadata": {},
   "source": [
    "Put the output above into excel for final formatting.\n",
    "\n",
    "## It worked...yea!"
   ]
  }
 ],
 "metadata": {
  "kernelspec": {
   "display_name": "Python [conda env:anaconda3]",
   "language": "python",
   "name": "conda-env-anaconda3-py"
  },
  "language_info": {
   "codemirror_mode": {
    "name": "ipython",
    "version": 3
   },
   "file_extension": ".py",
   "mimetype": "text/x-python",
   "name": "python",
   "nbconvert_exporter": "python",
   "pygments_lexer": "ipython3",
   "version": "3.6.3"
  }
 },
 "nbformat": 4,
 "nbformat_minor": 2
}
